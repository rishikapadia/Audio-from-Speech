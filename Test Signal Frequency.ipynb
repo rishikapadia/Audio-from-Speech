{
 "cells": [
  {
   "cell_type": "code",
   "execution_count": 2,
   "metadata": {
    "collapsed": false
   },
   "outputs": [],
   "source": [
    "%matplotlib inline\n",
    "import matplotlib\n",
    "import numpy as np\n",
    "import matplotlib.pyplot as plt\n",
    "from scipy import signal as sig"
   ]
  },
  {
   "cell_type": "markdown",
   "metadata": {},
   "source": [
    "## Test Signal"
   ]
  },
  {
   "cell_type": "code",
   "execution_count": 3,
   "metadata": {
    "collapsed": false
   },
   "outputs": [
    {
     "data": {
      "image/png": "[encoded data removed]",
      "text/plain": [
       "<matplotlib.figure.Figure at 0x10e1d76d0>"
      ]
     },
     "metadata": {},
     "output_type": "display_data"
    }
   ],
   "source": [
    "signal_len = 100\n",
    "signal = np.ones(signal_len)\n",
    "signal[np.arange(signal_len)%2 == 0] = 0 # alternates every timestep\n",
    "fft = np.fft.fft(signal)\n",
    "timestep = 1 # so we have a freq of .5Hz (b/c takes 2 timesteps per cycle)\n",
    "freq_bins = np.fft.fftfreq(len(fft), d=timestep)\n",
    "plt.plot(freq_bins, np.abs(fft), 'g--')\n",
    "plt.show()"
   ]
  },
  {
   "cell_type": "markdown",
   "metadata": {},
   "source": [
    "## Extract freq of data"
   ]
  },
  {
   "cell_type": "code",
   "execution_count": 17,
   "metadata": {
    "collapsed": false
   },
   "outputs": [
    {
     "name": "stdout",
     "output_type": "stream",
     "text": [
      "None\n"
     ]
    },
    {
     "data": {
      "image/png": "[encoded data removed]",
      "text/plain": [
       "<matplotlib.figure.Figure at 0x1115afd50>"
      ]
     },
     "metadata": {},
     "output_type": "display_data"
    }
   ],
   "source": [
    "# %load signal-extractor.py\n",
    "#!/usr/bin/env python\n",
    "from __future__ import division\n",
    "import numpy as np\n",
    "import matplotlib.pyplot as plt\n",
    "from glob import glob\n",
    "import sys, os, IPython\n",
    "from scipy import signal as sig\n",
    "\n",
    "\n",
    "\"\"\"\n",
    "Opens the grayscale images of a directory and concatenates them together.\n",
    "\"\"\"\n",
    "def get_frames(directory_name):\n",
    "\timage_names = glob(str(directory_name) + \"/*\")\n",
    "\tstream = plt.imread(image_names[0])[:,:,0]  # grayscale, so arbitrarily take 1 channel\n",
    "\tfor name in image_names[1:]:\n",
    "\t\tframe = plt.imread(name)[:,:,0]\n",
    "\t\tstream = np.concatenate((stream, frame), axis=0)\n",
    "\treturn stream\n",
    "\n",
    "\n",
    "\"\"\"\n",
    "Extracts the signal of the i-th pixel from the video stream.\n",
    "\"\"\"\n",
    "def extract_signal(stream, pixel=0):\n",
    "\treturn stream[:, pixel]\n",
    "\n",
    "\n",
    "\"\"\"\n",
    "High pass filter to remove frequencies below 20 hz.\n",
    "\"\"\"\n",
    "def high_pass(signal, cutoff=20):\n",
    "\thp_filter = sig.firwin(11, cutoff, pass_zero=False, nyq=9796)\n",
    "\thp_filter /= np.sum(hp_filter)\n",
    "\treturn sig.convolve(signal, hp_filter)\n",
    "\n",
    "\n",
    "# plot freq response\n",
    "def plot_fft(signal):\n",
    "\tfft = np.fft.fft(signal)\n",
    "\ttimestep = 1/9795.9 # number of seconds between samples/lines\n",
    "\tfreq_bins = np.fft.fftfreq(len(fft), d=timestep)\n",
    "\tf = plt.figure()\n",
    "\tplt.plot(freq_bins, np.abs(fft))\n",
    "\tf.suptitle('FFT of 44Hz Signal', fontsize=20)\n",
    "\tplt.xlabel('Frequency [Hz]', fontsize=18)\n",
    "\tplt.ylabel('Count', fontsize=16)\n",
    "\tplt.ylim([0, 450])\n",
    "\tplt.xlim([-30, 30])\n",
    "\t# plt.show()\n",
    "\tplt.savefig(\"data/plots/fft-4.png\")\n",
    "\treturn\n",
    "\n",
    "# upsample to audio rate\n",
    "# play it\n",
    "\n",
    "\n",
    "\"\"\"\n",
    "Main function for analyzing a video stream.\n",
    "\"\"\"\n",
    "def analyze_video(i):\n",
    "\tstream = get_frames(\"data/video \" + str(i) + \" frames\")\n",
    "\tsignal = extract_signal(stream, pixel=512)\n",
    "\t# filtered = high_pass(signal, 20)\n",
    "\tplot_fft(signal)\n",
    "\t# IPython.embed()\n",
    "\treturn\n",
    "\n",
    "\n",
    "\n",
    "\n",
    "if __name__ == \"__main__\":\n",
    "    # print analyze_video(1)\n",
    "    # print analyze_video(2)\n",
    "    print analyze_video(3)"
   ]
  },
  {
   "cell_type": "code",
   "execution_count": 10,
   "metadata": {
    "collapsed": false
   },
   "outputs": [
    {
     "data": {
      "text/plain": [
       "6.283185307179586"
      ]
     },
     "execution_count": 10,
     "metadata": {},
     "output_type": "execute_result"
    }
   ],
   "source": []
  },
  {
   "cell_type": "code",
   "execution_count": null,
   "metadata": {
    "collapsed": true
   },
   "outputs": [],
   "source": []
  }
 ],
 "metadata": {
  "anaconda-cloud": {},
  "kernelspec": {
   "display_name": "Python [Root]",
   "language": "python",
   "name": "Python [Root]"
  },
  "language_info": {
   "codemirror_mode": {
    "name": "ipython",
    "version": 2
   },
   "file_extension": ".py",
   "mimetype": "text/x-python",
   "name": "python",
   "nbconvert_exporter": "python",
   "pygments_lexer": "ipython2",
   "version": "2.7.12"
  }
 },
 "nbformat": 4,
 "nbformat_minor": 0
}
